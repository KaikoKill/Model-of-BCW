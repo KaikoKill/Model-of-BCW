{
 "cells": [
  {
   "cell_type": "markdown",
   "metadata": {},
   "source": [
    "Las muestras llegan periódicamente a medida que el Dr. Wolberg informa de sus casos clínicos. Por lo tanto, la base de datos refleja esta agrupación cronológica de los datos. Esta información de agrupación aparece inmediatamente debajo, habiéndose eliminado de los propios datos:\n",
    "\n",
    "Grupo 1: 367 instancias (enero de 1989)<br>\n",
    "Grupo 2: 70 casos (octubre de 1989)<br>\n",
    "Grupo 3: 31 casos (febrero de 1990)<br>\n",
    "Grupo 4: 17 casos (abril de 1990)<br>\n",
    "Grupo 5: 48 casos (agosto de 1990)<br>\n",
    "Grupo 6: 49 casos (actualizado en enero de 1991)<br>\n",
    "Grupo 7: 31 casos (junio de 1991)<br>\n",
    "Grupo 8: 86 casos (noviembre de 1991)<br>\n",
    "\n",
    "Total: 699 puntos (a partir de la base de datos donada el 15 de julio de 1992)\n",
    "\n",
    "Tenga en cuenta que los resultados resumidos anteriormente en Uso anterior se refieren a un conjunto de datos de tamaño 369, mientras que el Grupo 1 tiene solo 367 instancias. Esto se debe a que originalmente contenía 369 instancias; Se eliminaron 2. Las siguientes declaraciones resumen los cambios en el conjunto de datos del Grupo 1 original:\n",
    "\n",
    "Grupo 1 : 367 puntos: 200B 167M (enero de 1989)\n",
    "\n",
    "Revisado el 10 de enero de 1991: Se reemplazaron los núcleos desnudos cero en 1080185 y 1187805\n",
    "\n",
    "Revisado el 22 de noviembre de 1991: Eliminado 765878,4,5,9,7,10,10,10,3,8,1 sin registro\n",
    ": Eliminado 484201,2,7,8,8,4,3,10,3,4,1 cero epitelial\n",
    ": Se ha cambiado de 0 a 1 en el campo 6 del 1219406 de muestra\n",
    ": Se cambió 0 a 1 en el campo 8 de la siguiente muestra:\n",
    ": 1182404,2,3,1,1,1,2,0,1,1,1\n",
    "\n",
    "¿Faltan valores?\n",
    "\n",
    "Sí\n",
    "\n",
    "Información adicional de las variables\n",
    "\n",
    "1. Número de código de muestra: número de identificación\n",
    "2. Espesor del grupo: 1 - 10\n",
    "3. Uniformidad del tamaño de la celda: 1 - 10\n",
    "4. Uniformidad de la forma de la celda: 1 - 10\n",
    "5. Adherencia marginal: 1 - 10\n",
    "6. Tamaño de célula epitelial única: 1 - 10\n",
    "7. Núcleos desnudos: 1 - 10\n",
    "8. Cromatina blanda: 1 - 10\n",
    "9. Nucleolos normales: 1 - 10\n",
    "10. Mitosis: 1 - 10\n",
    "11. Clase: (2 para benigno, 4 para maligno)\n",
    "\n",
    "Etiquetas de clase\n",
    "\n",
    "2 = benigno, 4 = maligno\n",
    "# Importar Librerias"
   ]
  },
  {
   "cell_type": "code",
   "execution_count": 2,
   "metadata": {},
   "outputs": [],
   "source": [
    "import pandas as pd\n",
    "import matplotlib.pyplot as plt\n",
    "import seaborn as sns\n",
    "import numpy as np"
   ]
  },
  {
   "cell_type": "markdown",
   "metadata": {},
   "source": [
    "# Cargar conjuntos de datos"
   ]
  },
  {
   "cell_type": "code",
   "execution_count": 3,
   "metadata": {},
   "outputs": [],
   "source": [
    "# Lista de nombres de columnas\n",
    "column_names = [\n",
    "    'ID',\n",
    "    'Clump Thickness',\n",
    "    'Uniformity of Cell Size',\n",
    "    'Uniformity of Cell Shape',\n",
    "    'Marginal Adhesion',\n",
    "    'Single Epithelial Cell Size',\n",
    "    'Bare Nuclei',\n",
    "    'Bland Chromatin',\n",
    "    'Normal Nucleoli',\n",
    "    'Mitoses',\n",
    "    'Class'\n",
    "]"
   ]
  },
  {
   "cell_type": "code",
   "execution_count": 4,
   "metadata": {},
   "outputs": [
    {
     "data": {
      "text/html": [
       "<div>\n",
       "<style scoped>\n",
       "    .dataframe tbody tr th:only-of-type {\n",
       "        vertical-align: middle;\n",
       "    }\n",
       "\n",
       "    .dataframe tbody tr th {\n",
       "        vertical-align: top;\n",
       "    }\n",
       "\n",
       "    .dataframe thead th {\n",
       "        text-align: right;\n",
       "    }\n",
       "</style>\n",
       "<table border=\"1\" class=\"dataframe\">\n",
       "  <thead>\n",
       "    <tr style=\"text-align: right;\">\n",
       "      <th></th>\n",
       "      <th>ID</th>\n",
       "      <th>Clump Thickness</th>\n",
       "      <th>Uniformity of Cell Size</th>\n",
       "      <th>Uniformity of Cell Shape</th>\n",
       "      <th>Marginal Adhesion</th>\n",
       "      <th>Single Epithelial Cell Size</th>\n",
       "      <th>Bare Nuclei</th>\n",
       "      <th>Bland Chromatin</th>\n",
       "      <th>Normal Nucleoli</th>\n",
       "      <th>Mitoses</th>\n",
       "      <th>Class</th>\n",
       "    </tr>\n",
       "  </thead>\n",
       "  <tbody>\n",
       "    <tr>\n",
       "      <th>0</th>\n",
       "      <td>1000025</td>\n",
       "      <td>5</td>\n",
       "      <td>1</td>\n",
       "      <td>1</td>\n",
       "      <td>1</td>\n",
       "      <td>2</td>\n",
       "      <td>1</td>\n",
       "      <td>3</td>\n",
       "      <td>1</td>\n",
       "      <td>1</td>\n",
       "      <td>2</td>\n",
       "    </tr>\n",
       "    <tr>\n",
       "      <th>1</th>\n",
       "      <td>1002945</td>\n",
       "      <td>5</td>\n",
       "      <td>4</td>\n",
       "      <td>4</td>\n",
       "      <td>5</td>\n",
       "      <td>7</td>\n",
       "      <td>10</td>\n",
       "      <td>3</td>\n",
       "      <td>2</td>\n",
       "      <td>1</td>\n",
       "      <td>2</td>\n",
       "    </tr>\n",
       "    <tr>\n",
       "      <th>2</th>\n",
       "      <td>1015425</td>\n",
       "      <td>3</td>\n",
       "      <td>1</td>\n",
       "      <td>1</td>\n",
       "      <td>1</td>\n",
       "      <td>2</td>\n",
       "      <td>2</td>\n",
       "      <td>3</td>\n",
       "      <td>1</td>\n",
       "      <td>1</td>\n",
       "      <td>2</td>\n",
       "    </tr>\n",
       "    <tr>\n",
       "      <th>3</th>\n",
       "      <td>1016277</td>\n",
       "      <td>6</td>\n",
       "      <td>8</td>\n",
       "      <td>8</td>\n",
       "      <td>1</td>\n",
       "      <td>3</td>\n",
       "      <td>4</td>\n",
       "      <td>3</td>\n",
       "      <td>7</td>\n",
       "      <td>1</td>\n",
       "      <td>2</td>\n",
       "    </tr>\n",
       "    <tr>\n",
       "      <th>4</th>\n",
       "      <td>1017023</td>\n",
       "      <td>4</td>\n",
       "      <td>1</td>\n",
       "      <td>1</td>\n",
       "      <td>3</td>\n",
       "      <td>2</td>\n",
       "      <td>1</td>\n",
       "      <td>3</td>\n",
       "      <td>1</td>\n",
       "      <td>1</td>\n",
       "      <td>2</td>\n",
       "    </tr>\n",
       "  </tbody>\n",
       "</table>\n",
       "</div>"
      ],
      "text/plain": [
       "        ID  Clump Thickness  Uniformity of Cell Size  \\\n",
       "0  1000025                5                        1   \n",
       "1  1002945                5                        4   \n",
       "2  1015425                3                        1   \n",
       "3  1016277                6                        8   \n",
       "4  1017023                4                        1   \n",
       "\n",
       "   Uniformity of Cell Shape  Marginal Adhesion  Single Epithelial Cell Size  \\\n",
       "0                         1                  1                            2   \n",
       "1                         4                  5                            7   \n",
       "2                         1                  1                            2   \n",
       "3                         8                  1                            3   \n",
       "4                         1                  3                            2   \n",
       "\n",
       "  Bare Nuclei  Bland Chromatin  Normal Nucleoli  Mitoses  Class  \n",
       "0           1                3                1        1      2  \n",
       "1          10                3                2        1      2  \n",
       "2           2                3                1        1      2  \n",
       "3           4                3                7        1      2  \n",
       "4           1                3                1        1      2  "
      ]
     },
     "execution_count": 4,
     "metadata": {},
     "output_type": "execute_result"
    }
   ],
   "source": [
    "df = pd.read_csv(\"./breast-cancer-wisconsin.data\", names=column_names)\n",
    "df.head()"
   ]
  },
  {
   "cell_type": "code",
   "execution_count": 5,
   "metadata": {},
   "outputs": [
    {
     "name": "stdout",
     "output_type": "stream",
     "text": [
      "<class 'pandas.core.frame.DataFrame'>\n",
      "RangeIndex: 699 entries, 0 to 698\n",
      "Data columns (total 11 columns):\n",
      " #   Column                       Non-Null Count  Dtype \n",
      "---  ------                       --------------  ----- \n",
      " 0   ID                           699 non-null    int64 \n",
      " 1   Clump Thickness              699 non-null    int64 \n",
      " 2   Uniformity of Cell Size      699 non-null    int64 \n",
      " 3   Uniformity of Cell Shape     699 non-null    int64 \n",
      " 4   Marginal Adhesion            699 non-null    int64 \n",
      " 5   Single Epithelial Cell Size  699 non-null    int64 \n",
      " 6   Bare Nuclei                  699 non-null    object\n",
      " 7   Bland Chromatin              699 non-null    int64 \n",
      " 8   Normal Nucleoli              699 non-null    int64 \n",
      " 9   Mitoses                      699 non-null    int64 \n",
      " 10  Class                        699 non-null    int64 \n",
      "dtypes: int64(10), object(1)\n",
      "memory usage: 60.2+ KB\n"
     ]
    },
    {
     "data": {
      "text/plain": [
       "Bare Nuclei\n",
       "1     402\n",
       "10    132\n",
       "2      30\n",
       "5      30\n",
       "3      28\n",
       "8      21\n",
       "4      19\n",
       "?      16\n",
       "9       9\n",
       "7       8\n",
       "6       4\n",
       "Name: count, dtype: int64"
      ]
     },
     "execution_count": 5,
     "metadata": {},
     "output_type": "execute_result"
    }
   ],
   "source": [
    "\n",
    "df.info()\n",
    "df['Bare Nuclei'].value_counts()"
   ]
  },
  {
   "cell_type": "code",
   "execution_count": 6,
   "metadata": {},
   "outputs": [],
   "source": [
    "df_copy = df.copy()"
   ]
  },
  {
   "cell_type": "markdown",
   "metadata": {},
   "source": [
    "Limpiar y convertir datos"
   ]
  },
  {
   "cell_type": "code",
   "execution_count": 7,
   "metadata": {},
   "outputs": [
    {
     "data": {
      "text/html": [
       "<div>\n",
       "<style scoped>\n",
       "    .dataframe tbody tr th:only-of-type {\n",
       "        vertical-align: middle;\n",
       "    }\n",
       "\n",
       "    .dataframe tbody tr th {\n",
       "        vertical-align: top;\n",
       "    }\n",
       "\n",
       "    .dataframe thead th {\n",
       "        text-align: right;\n",
       "    }\n",
       "</style>\n",
       "<table border=\"1\" class=\"dataframe\">\n",
       "  <thead>\n",
       "    <tr style=\"text-align: right;\">\n",
       "      <th></th>\n",
       "      <th>ID</th>\n",
       "      <th>Clump Thickness</th>\n",
       "      <th>Uniformity of Cell Size</th>\n",
       "      <th>Uniformity of Cell Shape</th>\n",
       "      <th>Marginal Adhesion</th>\n",
       "      <th>Single Epithelial Cell Size</th>\n",
       "      <th>Bare Nuclei</th>\n",
       "      <th>Bland Chromatin</th>\n",
       "      <th>Normal Nucleoli</th>\n",
       "      <th>Mitoses</th>\n",
       "      <th>Class</th>\n",
       "    </tr>\n",
       "  </thead>\n",
       "  <tbody>\n",
       "    <tr>\n",
       "      <th>36</th>\n",
       "      <td>1080185</td>\n",
       "      <td>10</td>\n",
       "      <td>10</td>\n",
       "      <td>10</td>\n",
       "      <td>8</td>\n",
       "      <td>6</td>\n",
       "      <td>1</td>\n",
       "      <td>8</td>\n",
       "      <td>9</td>\n",
       "      <td>1</td>\n",
       "      <td>4</td>\n",
       "    </tr>\n",
       "    <tr>\n",
       "      <th>136</th>\n",
       "      <td>1182404</td>\n",
       "      <td>4</td>\n",
       "      <td>1</td>\n",
       "      <td>1</td>\n",
       "      <td>1</td>\n",
       "      <td>2</td>\n",
       "      <td>1</td>\n",
       "      <td>1</td>\n",
       "      <td>1</td>\n",
       "      <td>1</td>\n",
       "      <td>2</td>\n",
       "    </tr>\n",
       "    <tr>\n",
       "      <th>149</th>\n",
       "      <td>1187805</td>\n",
       "      <td>8</td>\n",
       "      <td>8</td>\n",
       "      <td>7</td>\n",
       "      <td>4</td>\n",
       "      <td>10</td>\n",
       "      <td>1</td>\n",
       "      <td>7</td>\n",
       "      <td>8</td>\n",
       "      <td>7</td>\n",
       "      <td>4</td>\n",
       "    </tr>\n",
       "    <tr>\n",
       "      <th>209</th>\n",
       "      <td>1219406</td>\n",
       "      <td>5</td>\n",
       "      <td>1</td>\n",
       "      <td>1</td>\n",
       "      <td>1</td>\n",
       "      <td>1</td>\n",
       "      <td>1</td>\n",
       "      <td>3</td>\n",
       "      <td>1</td>\n",
       "      <td>1</td>\n",
       "      <td>2</td>\n",
       "    </tr>\n",
       "    <tr>\n",
       "      <th>256</th>\n",
       "      <td>1182404</td>\n",
       "      <td>3</td>\n",
       "      <td>1</td>\n",
       "      <td>1</td>\n",
       "      <td>1</td>\n",
       "      <td>2</td>\n",
       "      <td>1</td>\n",
       "      <td>1</td>\n",
       "      <td>1</td>\n",
       "      <td>1</td>\n",
       "      <td>2</td>\n",
       "    </tr>\n",
       "    <tr>\n",
       "      <th>257</th>\n",
       "      <td>1182404</td>\n",
       "      <td>3</td>\n",
       "      <td>1</td>\n",
       "      <td>1</td>\n",
       "      <td>1</td>\n",
       "      <td>2</td>\n",
       "      <td>1</td>\n",
       "      <td>1</td>\n",
       "      <td>1</td>\n",
       "      <td>1</td>\n",
       "      <td>2</td>\n",
       "    </tr>\n",
       "    <tr>\n",
       "      <th>265</th>\n",
       "      <td>1182404</td>\n",
       "      <td>5</td>\n",
       "      <td>1</td>\n",
       "      <td>4</td>\n",
       "      <td>1</td>\n",
       "      <td>2</td>\n",
       "      <td>1</td>\n",
       "      <td>1</td>\n",
       "      <td>2</td>\n",
       "      <td>1</td>\n",
       "      <td>2</td>\n",
       "    </tr>\n",
       "    <tr>\n",
       "      <th>448</th>\n",
       "      <td>1182404</td>\n",
       "      <td>1</td>\n",
       "      <td>1</td>\n",
       "      <td>1</td>\n",
       "      <td>1</td>\n",
       "      <td>1</td>\n",
       "      <td>1</td>\n",
       "      <td>1</td>\n",
       "      <td>1</td>\n",
       "      <td>1</td>\n",
       "      <td>2</td>\n",
       "    </tr>\n",
       "    <tr>\n",
       "      <th>497</th>\n",
       "      <td>1182404</td>\n",
       "      <td>4</td>\n",
       "      <td>2</td>\n",
       "      <td>1</td>\n",
       "      <td>1</td>\n",
       "      <td>2</td>\n",
       "      <td>1</td>\n",
       "      <td>1</td>\n",
       "      <td>1</td>\n",
       "      <td>1</td>\n",
       "      <td>2</td>\n",
       "    </tr>\n",
       "  </tbody>\n",
       "</table>\n",
       "</div>"
      ],
      "text/plain": [
       "          ID  Clump Thickness  Uniformity of Cell Size  \\\n",
       "36   1080185               10                       10   \n",
       "136  1182404                4                        1   \n",
       "149  1187805                8                        8   \n",
       "209  1219406                5                        1   \n",
       "256  1182404                3                        1   \n",
       "257  1182404                3                        1   \n",
       "265  1182404                5                        1   \n",
       "448  1182404                1                        1   \n",
       "497  1182404                4                        2   \n",
       "\n",
       "     Uniformity of Cell Shape  Marginal Adhesion  Single Epithelial Cell Size  \\\n",
       "36                         10                  8                            6   \n",
       "136                         1                  1                            2   \n",
       "149                         7                  4                           10   \n",
       "209                         1                  1                            1   \n",
       "256                         1                  1                            2   \n",
       "257                         1                  1                            2   \n",
       "265                         4                  1                            2   \n",
       "448                         1                  1                            1   \n",
       "497                         1                  1                            2   \n",
       "\n",
       "    Bare Nuclei  Bland Chromatin  Normal Nucleoli  Mitoses  Class  \n",
       "36            1                8                9        1      4  \n",
       "136           1                1                1        1      2  \n",
       "149           1                7                8        7      4  \n",
       "209           1                3                1        1      2  \n",
       "256           1                1                1        1      2  \n",
       "257           1                1                1        1      2  \n",
       "265           1                1                2        1      2  \n",
       "448           1                1                1        1      2  \n",
       "497           1                1                1        1      2  "
      ]
     },
     "execution_count": 7,
     "metadata": {},
     "output_type": "execute_result"
    }
   ],
   "source": [
    "# Realizar actualizaciones específicas en el conjunto de datos según las instrucciones\n",
    "\n",
    "# 1. Reemplazar los valores de \"núcleos desnudos\" en las muestras 1080185 y 1187805\n",
    "df_copy.loc[df_copy['ID'] == 1080185, 'Bare Nuclei'] = 1\n",
    "df_copy.loc[df_copy['ID'] == 1187805, 'Bare Nuclei'] = 1\n",
    "\n",
    "# 2. Eliminar las muestras con los números 765878 y 484201\n",
    "df_copy = df_copy[~df_copy['ID'].isin([765878, 484201])]\n",
    "\n",
    "# 3. Actualizar el valor en el campo 6 de la muestra 1219406 de 0 a 1\n",
    "df_copy.loc[df_copy['ID'] == 1219406, 'Single Epithelial Cell Size'] = 1\n",
    "\n",
    "# 4. Actualizar el valor en el campo 8 de la muestra 1182404 de 0 a 1\n",
    "df_copy.loc[df_copy['ID'] == 1182404, 'Bland Chromatin'] = 1\n",
    "\n",
    "# Verificar los cambios realizados\n",
    "df_copy.loc[df_copy['ID'].isin([1080185, 1187805, 1219406, 1182404])]"
   ]
  },
  {
   "cell_type": "code",
   "execution_count": 8,
   "metadata": {},
   "outputs": [
    {
     "name": "stdout",
     "output_type": "stream",
     "text": [
      "<class 'pandas.core.frame.DataFrame'>\n",
      "Index: 683 entries, 0 to 698\n",
      "Data columns (total 11 columns):\n",
      " #   Column                       Non-Null Count  Dtype  \n",
      "---  ------                       --------------  -----  \n",
      " 0   ID                           683 non-null    int64  \n",
      " 1   Clump Thickness              683 non-null    int64  \n",
      " 2   Uniformity of Cell Size      683 non-null    int64  \n",
      " 3   Uniformity of Cell Shape     683 non-null    int64  \n",
      " 4   Marginal Adhesion            683 non-null    int64  \n",
      " 5   Single Epithelial Cell Size  683 non-null    int64  \n",
      " 6   Bare Nuclei                  683 non-null    float64\n",
      " 7   Bland Chromatin              683 non-null    int64  \n",
      " 8   Normal Nucleoli              683 non-null    int64  \n",
      " 9   Mitoses                      683 non-null    int64  \n",
      " 10  Class                        683 non-null    int64  \n",
      "dtypes: float64(1), int64(10)\n",
      "memory usage: 64.0 KB\n"
     ]
    },
    {
     "data": {
      "text/plain": [
       "Bare Nuclei\n",
       "1.0     403\n",
       "10.0    131\n",
       "2.0      30\n",
       "5.0      30\n",
       "3.0      28\n",
       "8.0      21\n",
       "4.0      19\n",
       "9.0       9\n",
       "7.0       8\n",
       "6.0       4\n",
       "Name: count, dtype: int64"
      ]
     },
     "execution_count": 8,
     "metadata": {},
     "output_type": "execute_result"
    }
   ],
   "source": [
    "df_copy['Bare Nuclei'] = pd.to_numeric(df_copy['Bare Nuclei'], errors='coerce', downcast='integer')\n",
    "df_copy.dropna(inplace=True)  # Eliminar filas con valores faltantes\n",
    "\n",
    "# Mostrar información sobre los datos limpios\n",
    "df_copy.info()\n",
    "df_copy['Bare Nuclei'].value_counts()\n"
   ]
  },
  {
   "cell_type": "code",
   "execution_count": 9,
   "metadata": {},
   "outputs": [
    {
     "data": {
      "text/plain": [
       "Bare Nuclei\n",
       "1     403\n",
       "10    131\n",
       "2      30\n",
       "5      30\n",
       "3      28\n",
       "8      21\n",
       "4      19\n",
       "9       9\n",
       "7       8\n",
       "6       4\n",
       "Name: count, dtype: int64"
      ]
     },
     "execution_count": 9,
     "metadata": {},
     "output_type": "execute_result"
    }
   ],
   "source": [
    "df_copy['Bare Nuclei'] = pd.to_numeric(df_copy['Bare Nuclei'], errors='coerce', downcast='integer')\n",
    "df_copy['Bare Nuclei'].value_counts()"
   ]
  },
  {
   "cell_type": "code",
   "execution_count": 10,
   "metadata": {},
   "outputs": [
    {
     "data": {
      "image/png": "[encoded data removed]",
      "text/plain": [
       "<Figure size 640x480 with 1 Axes>"
      ]
     },
     "metadata": {},
     "output_type": "display_data"
    },
    {
     "data": {
      "image/png": "[encoded data removed]",
      "text/plain": [
       "<Figure size 640x480 with 1 Axes>"
      ]
     },
     "metadata": {},
     "output_type": "display_data"
    },
    {
     "data": {
      "image/png": "[encoded data removed]",
      "text/plain": [
       "<Figure size 640x480 with 1 Axes>"
      ]
     },
     "metadata": {},
     "output_type": "display_data"
    },
    {
     "data": {
      "image/png": "[encoded data removed]",
      "text/plain": [
       "<Figure size 640x480 with 1 Axes>"
      ]
     },
     "metadata": {},
     "output_type": "display_data"
    },
    {
     "data": {
      "image/png": "[encoded data removed]",
      "text/plain": [
       "<Figure size 640x480 with 1 Axes>"
      ]
     },
     "metadata": {},
     "output_type": "display_data"
    },
    {
     "data": {
      "image/png": "[encoded data removed]",
      "text/plain": [
       "<Figure size 640x480 with 1 Axes>"
      ]
     },
     "metadata": {},
     "output_type": "display_data"
    },
    {
     "data": {
      "image/png": "[encoded data removed]",
      "text/plain": [
       "<Figure size 640x480 with 1 Axes>"
      ]
     },
     "metadata": {},
     "output_type": "display_data"
    },
    {
     "data": {
      "image/png": "[encoded data removed]",
      "text/plain": [
       "<Figure size 640x480 with 1 Axes>"
      ]
     },
     "metadata": {},
     "output_type": "display_data"
    },
    {
     "data": {
      "image/png": "[encoded data removed]",
      "text/plain": [
       "<Figure size 640x480 with 1 Axes>"
      ]
     },
     "metadata": {},
     "output_type": "display_data"
    }
   ],
   "source": [
    "plt.boxplot(df_copy['Clump Thickness'], vert= False)\n",
    "plt.title('Clump Thickness')\n",
    "plt.show()\n",
    "\n",
    "plt.boxplot(df_copy['Uniformity of Cell Size'], vert= False)\n",
    "plt.title('Uniformity of Cell Size')\n",
    "plt.show()\n",
    "\n",
    "plt.boxplot(df_copy['Uniformity of Cell Shape'], vert= False)\n",
    "plt.title('Uniformity of Cell Shape')\n",
    "plt.show()\n",
    "\n",
    "plt.boxplot(df_copy['Marginal Adhesion'], vert= False)\n",
    "plt.title('Marginal Adhesion')\n",
    "plt.show()\n",
    "\n",
    "plt.boxplot(df_copy['Single Epithelial Cell Size'], vert= False)\n",
    "plt.title('Single Epithelial Cell Size')\n",
    "plt.show()\n",
    "\n",
    "plt.boxplot(df_copy['Bare Nuclei'], vert= False)\n",
    "plt.title('Bare Nuclei')\n",
    "plt.show()\n",
    "\n",
    "plt.boxplot(df_copy['Bland Chromatin'], vert= False)\n",
    "plt.title('Bland Chromatin')\n",
    "plt.show()\n",
    "\n",
    "plt.boxplot(df_copy['Normal Nucleoli'], vert= False)\n",
    "plt.title('Normal Nucleoli')\n",
    "plt.show()\n",
    "\n",
    "plt.boxplot(df_copy['Mitoses'], vert= False)\n",
    "plt.title('Mitoses')\n",
    "plt.show()"
   ]
  },
  {
   "cell_type": "code",
   "execution_count": 11,
   "metadata": {},
   "outputs": [
    {
     "name": "stdout",
     "output_type": "stream",
     "text": [
      "[ 1  1  1  1  1  1  1  1  5  1  1  1  1  1  4  1  1  1  2  1  4  1  1  1\n",
      "  1  1  1  1  1  1  1  3  1  1  1  1  1  1  1  2  3  1  1  2  1  1  1  2\n",
      "  5  1  2  7  1  1  1  4  1  1  1  1  1  1  1 10  1  1  8  1  1 10  1  1\n",
      "  3  1  1  1  1  1  1  1  1  1  7 10  1  3  1  1  1  1  1  1  1  1  1  1\n",
      " 10  4  2  1  1  1  8  7  1  1  1  3  2  1  3  1  1  1  1  8  1  1  1  1\n",
      "  3  1  1  1  5  1  2  1  1  1  3  1  1  1  1  1  1  1  1  3  1  1  1  1\n",
      "  1  7  1  3  1  1  1  1  1  1  6  2  1  1  7  1  3 10  1  1  1  1  1  7\n",
      "  1  1  1  3  1  1  1  1  1  1  1  1  1 10  1  1  1  3  1  1  1  1  2  1\n",
      "  1  1  3  1  1  1  1  5  1  1  1  1  6  1  1  4  1  2  1  1  2  1  1  1\n",
      "  1  1  2  1  1  1  1  1  1  2  1  1  1 10  4 10  2  1  1  1  1  1  1  1\n",
      "  1  1  1  3  3  3  1  1  1  1  1  1  3  5  1  1  3  1  2  1  8  1  2  1\n",
      "  1  1  1  1  1  1  8  1  1  1  1  2  3 10  1  1  4  1  1  1  1  1  1  2\n",
      "  1  1 10  1  1  4  1  1  4  1  1  1  1  1  1  1  1  1  1  6  1  1  1  1\n",
      "  1  1  1  1  1  2  1  1  2  1  1  1  1  1  1  1  1  1  3  1  1  1  1  1\n",
      "  1  1  1  4  1  1  3  8  3  3 10  4  1  1  1  1  7  3  1  1  1  1  1  1\n",
      "  1  1  1  1  1  1  1  4  1  1  1  3  1  1  1  1  1  1  1  1  1  1  1  1\n",
      "  1  1  8  1  1  1  1  1  1  1  1  1  1  1  1  1  1  1  1  2  1  1  1  1\n",
      "  1  1  1  1  1  1  1  1  1  1  1  1  1  1  1  1  1  1  1  1  1  1  1  1\n",
      "  1  1  1  1  1  1  1  1  2  1  1  1  1  1  1  1  1  1  3  1  2  1  1  1\n",
      "  1  1  1  1  1  1  1  1  1  1  1 10  1  1  1  1  5  1  1  1  1  1  2  1\n",
      "  1  1  1  1  1  1  1  1  1  1  1  7  1  1  1  1  1  1  1  2  1  1  1  1\n",
      "  1  1  1  1  1  1  1  1  1  1  1  1  1  1  1  1  1  1  1  1  1  1  1  1\n",
      "  1  1  1  1  1  1  2  1  1  1  2  1  1  1  1  1  1  1  1  1  1  1  1  1\n",
      "  1  2  1  1  2  1  1  1  1  1  1  1  1  1  1  1  1  1  1  1  1  1  1  1\n",
      "  1  1  1  1  1  1  1  1  1  1  1  1  1  2  3  1  1  1  1  2  1 10  1  1\n",
      "  1  1  1  1  1  1  1  1  1  1  3  1  1  1  1  1  1  1  1  1  3  1  1  1\n",
      "  1  1  1  1  1  1  1  1 10  1  1  1  1  1  1  1  1  1  3  1  1  1  1  1\n",
      "  1  1  2  1  3  1  1  1  1  1  1  1  1  1  1  1  7  3  1  1  1  1  1  1\n",
      "  1  8  1  1  1  2  1  1  2  1  1]\n",
      "Mitoses\n",
      "1     563\n",
      "2      35\n",
      "3      33\n",
      "10     14\n",
      "4      12\n",
      "7       9\n",
      "8       8\n",
      "5       6\n",
      "6       3\n",
      "Name: count, dtype: int64\n"
     ]
    },
    {
     "data": {
      "text/plain": [
       "count    683.000000\n",
       "mean       1.603221\n",
       "std        1.732674\n",
       "min        1.000000\n",
       "25%        1.000000\n",
       "50%        1.000000\n",
       "75%        1.000000\n",
       "max       10.000000\n",
       "Name: Mitoses, dtype: float64"
      ]
     },
     "execution_count": 11,
     "metadata": {},
     "output_type": "execute_result"
    }
   ],
   "source": [
    "print(df_copy['Mitoses'].values)\n",
    "print(df_copy['Mitoses'].value_counts())\n",
    "df_copy['Mitoses'].describe()"
   ]
  },
  {
   "cell_type": "code",
   "execution_count": 12,
   "metadata": {},
   "outputs": [],
   "source": [
    "df_copy2 = df_copy.copy()"
   ]
  },
  {
   "cell_type": "code",
   "execution_count": 13,
   "metadata": {},
   "outputs": [
    {
     "name": "stdout",
     "output_type": "stream",
     "text": [
      "[1 1 1 1 1 1 1 1 1 1 1 1 1 1 1 1 1 1 2 1 1 1 1 1 1 1 1 1 1 1 1 3 1 1 1 1 1\n",
      " 1 1 2 3 1 1 2 1 1 1 2 1 1 2 1 1 1 1 1 1 1 1 1 1 1 1 1 1 1 1 1 1 1 1 1 3 1\n",
      " 1 1 1 1 1 1 1 1 1 1 1 3 1 1 1 1 1 1 1 1 1 1 1 1 2 1 1 1 1 1 1 1 1 3 2 1 3\n",
      " 1 1 1 1 1 1 1 1 1 3 1 1 1 1 1 2 1 1 1 3 1 1 1 1 1 1 1 1 3 1 1 1 1 1 1 1 3\n",
      " 1 1 1 1 1 1 1 2 1 1 1 1 3 1 1 1 1 1 1 1 1 1 1 3 1 1 1 1 1 1 1 1 1 1 1 1 1\n",
      " 3 1 1 1 1 2 1 1 1 3 1 1 1 1 1 1 1 1 1 1 1 1 1 1 2 1 1 2 1 1 1 1 1 2 1 1 1\n",
      " 1 1 1 2 1 1 1 1 1 1 2 1 1 1 1 1 1 1 1 1 1 3 3 3 1 1 1 1 1 1 3 1 1 1 3 1 2\n",
      " 1 1 1 2 1 1 1 1 1 1 1 1 1 1 1 1 2 3 1 1 1 1 1 1 1 1 1 1 2 1 1 1 1 1 1 1 1\n",
      " 1 1 1 1 1 1 1 1 1 1 1 1 1 1 1 1 1 1 1 1 1 2 1 1 2 1 1 1 1 1 1 1 1 1 3 1 1\n",
      " 1 1 1 1 1 1 1 1 1 3 1 3 3 1 1 1 1 1 1 1 3 1 1 1 1 1 1 1 1 1 1 1 1 1 1 1 1\n",
      " 1 3 1 1 1 1 1 1 1 1 1 1 1 1 1 1 1 1 1 1 1 1 1 1 1 1 1 1 1 1 1 1 1 2 1 1 1\n",
      " 1 1 1 1 1 1 1 1 1 1 1 1 1 1 1 1 1 1 1 1 1 1 1 1 1 1 1 1 1 1 1 1 1 2 1 1 1\n",
      " 1 1 1 1 1 1 3 1 2 1 1 1 1 1 1 1 1 1 1 1 1 1 1 1 1 1 1 1 1 1 1 1 1 1 2 1 1\n",
      " 1 1 1 1 1 1 1 1 1 1 1 1 1 1 1 1 1 1 2 1 1 1 1 1 1 1 1 1 1 1 1 1 1 1 1 1 1\n",
      " 1 1 1 1 1 1 1 1 1 1 1 1 1 1 1 1 2 1 1 1 2 1 1 1 1 1 1 1 1 1 1 1 1 1 1 2 1\n",
      " 1 2 1 1 1 1 1 1 1 1 1 1 1 1 1 1 1 1 1 1 1 1 1 1 1 1 1 1 1 1 1 1 1 1 2 3 1\n",
      " 1 1 1 2 1 1 1 1 1 1 1 1 1 1 1 1 1 1 3 1 1 1 1 1 1 1 1 1 3 1 1 1 1 1 1 1 1\n",
      " 1 1 1 1 1 1 1 1 1 1 1 1 1 3 1 1 1 1 1 1 1 2 1 3 1 1 1 1 1 1 1 1 1 1 1 1 3\n",
      " 1 1 1 1 1 1 1 1 1 1 1 2 1 1 2 1 1]\n"
     ]
    },
    {
     "data": {
      "image/png": "[encoded data removed]",
      "text/plain": [
       "<Figure size 640x480 with 1 Axes>"
      ]
     },
     "metadata": {},
     "output_type": "display_data"
    },
    {
     "name": "stdout",
     "output_type": "stream",
     "text": [
      "<class 'pandas.core.frame.DataFrame'>\n",
      "Index: 683 entries, 0 to 698\n",
      "Data columns (total 11 columns):\n",
      " #   Column                       Non-Null Count  Dtype\n",
      "---  ------                       --------------  -----\n",
      " 0   ID                           683 non-null    int64\n",
      " 1   Clump Thickness              683 non-null    int64\n",
      " 2   Uniformity of Cell Size      683 non-null    int64\n",
      " 3   Uniformity of Cell Shape     683 non-null    int64\n",
      " 4   Marginal Adhesion            683 non-null    int64\n",
      " 5   Single Epithelial Cell Size  683 non-null    int64\n",
      " 6   Bare Nuclei                  683 non-null    int8 \n",
      " 7   Bland Chromatin              683 non-null    int64\n",
      " 8   Normal Nucleoli              683 non-null    int64\n",
      " 9   Mitoses                      683 non-null    int64\n",
      " 10  Class                        683 non-null    int64\n",
      "dtypes: int64(10), int8(1)\n",
      "memory usage: 59.4 KB\n"
     ]
    }
   ],
   "source": [
    "# Asignar la mediana a los datos atípicos en la columna 'mitosis' en df_copy\n",
    "def replace_outliers(value):\n",
    "    if value > 3:\n",
    "        return int(df_copy2['Mitoses'].mean())\n",
    "    return value\n",
    "\n",
    "df_copy2['Mitoses'] = df_copy2['Mitoses'].apply(replace_outliers)\n",
    "\n",
    "# Verificar si los valores atípicos han sido reemplazados\n",
    "print(df_copy2['Mitoses'].values)\n",
    "plt.boxplot(df_copy2['Mitoses'], vert=False)\n",
    "plt.title('Mitoses')\n",
    "plt.show()\n",
    "df_copy2.info()\n",
    "\n"
   ]
  },
  {
   "cell_type": "code",
   "execution_count": null,
   "metadata": {},
   "outputs": [],
   "source": [
    "hist = sns.FacetGrid(df_copy2, col= 'Class')\n",
    "hist.map(plt.hist, 'Clump Thickness', bins = 10)\n",
    "\n",
    "hist = sns.FacetGrid(df_copy2, col= 'Class')\n",
    "hist.map(plt.hist, 'Uniformity of Cell Size', bins = 10)\n",
    "\n",
    "hist = sns.FacetGrid(df_copy2, col= 'Class')\n",
    "hist.map(plt.hist, 'Uniformity of Cell Shape', bins = 10)\n",
    "\n",
    "hist = sns.FacetGrid(df_copy2, col= 'Class')\n",
    "hist.map(plt.hist, 'Marginal Adhesion', bins = 10)\n",
    "\n",
    "hist = sns.FacetGrid(df_copy2, col= 'Class')\n",
    "hist.map(plt.hist, 'Single Epithelial Cell Size', bins = 10)\n",
    "\n",
    "hist = sns.FacetGrid(df_copy2, col= 'Class')\n",
    "hist.map(plt.hist, 'Marginal Adhesion', bins = 10)\n",
    "\n",
    "hist = sns.FacetGrid(df_copy2, col= 'Class')\n",
    "hist.map(plt.hist, 'Marginal Adhesion', bins = 10)\n",
    "\n",
    "hist = sns.FacetGrid(df_copy2, col= 'Class')\n",
    "hist.map(plt.hist, 'Bare Nuclei', bins = 10)\n",
    "\n",
    "hist = sns.FacetGrid(df_copy2, col= 'Class')\n",
    "hist.map(plt.hist, 'Bland Chromatin', bins = 10)\n",
    "\n",
    "hist = sns.FacetGrid(df_copy2, col= 'Class')\n",
    "hist.map(plt.hist, 'Normal Nucleoli', bins = 10)\n",
    "\n",
    "hist = sns.FacetGrid(df_copy, col= 'Class')\n",
    "hist.map(plt.hist, 'Mitoses', bins = 10)\n",
    "\n",
    "hist = sns.FacetGrid(df_copy2, col= 'Class')\n",
    "hist.map(plt.hist, 'Mitoses', bins = 10)"
   ]
  },
  {
   "cell_type": "markdown",
   "metadata": {},
   "source": [
    "# Entrenar el Modelo"
   ]
  },
  {
   "cell_type": "code",
   "execution_count": 57,
   "metadata": {},
   "outputs": [],
   "source": [
    "from sklearn.model_selection import train_test_split\n",
    "from sklearn.metrics import accuracy_score, confusion_matrix, precision_score, recall_score, f1_score, roc_curve\n",
    "from sklearn.ensemble import RandomForestClassifier\n",
    "from sklearn.svm import SVC"
   ]
  },
  {
   "cell_type": "code",
   "execution_count": 58,
   "metadata": {},
   "outputs": [
    {
     "name": "stdout",
     "output_type": "stream",
     "text": [
      "<class 'pandas.core.frame.DataFrame'>\n",
      "Index: 683 entries, 0 to 698\n",
      "Data columns (total 9 columns):\n",
      " #   Column                       Non-Null Count  Dtype\n",
      "---  ------                       --------------  -----\n",
      " 0   Clump Thickness              683 non-null    int64\n",
      " 1   Uniformity of Cell Size      683 non-null    int64\n",
      " 2   Uniformity of Cell Shape     683 non-null    int64\n",
      " 3   Marginal Adhesion            683 non-null    int64\n",
      " 4   Single Epithelial Cell Size  683 non-null    int64\n",
      " 5   Bare Nuclei                  683 non-null    int8 \n",
      " 6   Bland Chromatin              683 non-null    int64\n",
      " 7   Normal Nucleoli              683 non-null    int64\n",
      " 8   Mitoses                      683 non-null    int64\n",
      "dtypes: int64(8), int8(1)\n",
      "memory usage: 48.7 KB\n"
     ]
    },
    {
     "data": {
      "text/plain": [
       "Class\n",
       "0    444\n",
       "1    239\n",
       "Name: count, dtype: int64"
      ]
     },
     "execution_count": 58,
     "metadata": {},
     "output_type": "execute_result"
    }
   ],
   "source": [
    "# Separar características y etiquetas\n",
    "X = df_copy.drop(['ID', 'Class'], axis=1)\n",
    "y = df_copy['Class']\n",
    "\n",
    "# Cambiar etiquetas a 0 (benigno) y 1 (maligno)\n",
    "y = y.map({2: 0, 4: 1})\n",
    "df_copy['Class'] = df['Class'].map({2: 0, 4: 1})\n",
    "\n",
    "# Mostrar información sobre los datos limpios\n",
    "X.info()\n",
    "y.value_counts()"
   ]
  },
  {
   "cell_type": "code",
   "execution_count": 59,
   "metadata": {},
   "outputs": [],
   "source": [
    "X_train, X_test, y_train, y_test = train_test_split(X, y, test_size=0.2, random_state=42)"
   ]
  },
  {
   "cell_type": "code",
   "execution_count": 60,
   "metadata": {},
   "outputs": [],
   "source": [
    "# Crear y entrenar el modelo de RandomForestClassifier\n",
    "RandomForest= RandomForestClassifier(n_estimators=50, random_state=0)\n",
    "RandomForest.fit(X_train, y_train)\n",
    "y_pred = RandomForest.predict(X_test)\n",
    "\n",
    "# Crear y entrenar el modelo de SVM\n",
    "svm_model = SVC(probability=True, random_state=42)\n",
    "svm_model.fit(X_train, y_train)\n",
    "y_pred_svm = svm_model.predict(X_test)\n"
   ]
  },
  {
   "cell_type": "code",
   "execution_count": 61,
   "metadata": {},
   "outputs": [
    {
     "name": "stdout",
     "output_type": "stream",
     "text": [
      "Precisión:  0.9636363636363636\n",
      "Memoria:  0.9137931034482759\n",
      "F1 Score:  0.9380530973451328\n",
      "Efectividad: 94.9% de efectividad\n"
     ]
    }
   ],
   "source": [
    "print('Precisión: ', precision_score(y_test, y_pred_svm))\n",
    "print('Memoria: ', recall_score(y_test, y_pred_svm))\n",
    "print('F1 Score: ', f1_score(y_test, y_pred_svm))\n",
    "print(f\"Efectividad: {round(accuracy_score(y_test, y_pred_svm)*100,1 )}% de efectividad\")"
   ]
  },
  {
   "cell_type": "code",
   "execution_count": 62,
   "metadata": {},
   "outputs": [
    {
     "data": {
      "image/png": "[encoded data removed]",
      "text/plain": [
       "<Figure size 640x480 with 2 Axes>"
      ]
     },
     "metadata": {},
     "output_type": "display_data"
    }
   ],
   "source": [
    "cm = confusion_matrix(y_test, y_pred)\n",
    "\n",
    "# Se define las etiquetas personalizadas\n",
    "labels = ['Verdadero Negativo', 'Falso Positivo', 'Falso Negativo', 'Verdadero Positivo']\n",
    "\n",
    "# Crea el gráfico de la matriz de confusión\n",
    "fig, ax = plt.subplots()\n",
    "cax = ax.matshow(cm, cmap=plt.cm.Blues)\n",
    "\n",
    "# Añade la barra de color\n",
    "plt.colorbar(cax)\n",
    "\n",
    "# Añade las etiquetas\n",
    "for (i, j), val in np.ndenumerate(cm):\n",
    "    ax.text(j, i, f'{val}', ha='center', va='center', color='black', fontsize=15)\n",
    "\n",
    "# Configura los ejes\n",
    "ax.set_xticks([0, 1])\n",
    "ax.set_yticks([0, 1])\n",
    "ax.set_xticklabels(['Negativo', 'Positivo'])\n",
    "ax.set_yticklabels(['Negativo', 'Positivo'])\n",
    "\n",
    "# Añade las etiquetas personalizadas\n",
    "ax.set_xlabel('Predicción')\n",
    "ax.set_ylabel('Real')\n",
    "ax.xaxis.set_label_position('bottom')\n",
    "\n",
    "plt.show()"
   ]
  },
  {
   "cell_type": "code",
   "execution_count": 63,
   "metadata": {},
   "outputs": [
    {
     "name": "stdout",
     "output_type": "stream",
     "text": [
      "Precisión:  0.9821428571428571\n",
      "Memoria:  0.9482758620689655\n",
      "F1 Score:  0.9649122807017544\n",
      "Efectividad: 97.1% de efectividad\n"
     ]
    },
    {
     "data": {
      "image/png": "[encoded data removed]",
      "text/plain": [
       "<Figure size 1000x600 with 1 Axes>"
      ]
     },
     "metadata": {},
     "output_type": "display_data"
    }
   ],
   "source": [
    "print('Precisión: ', precision_score(y_test, y_pred))\n",
    "print('Memoria: ', recall_score(y_test, y_pred))\n",
    "print('F1 Score: ', f1_score(y_test, y_pred))\n",
    "print(f\"Efectividad: {round(accuracy_score(y_test, y_pred)*100,1 )}% de efectividad\")\n",
    "\n",
    "# Calcular la curva ROC\n",
    "fpr, tpr, thresholds = roc_curve(y_test, y_pred)\n",
    "auc = accuracy_score(y_test, y_pred)\n",
    "\n",
    "# Visualizar la curva ROC\n",
    "plt.figure(figsize=(10, 6))\n",
    "plt.plot(fpr, tpr, label=f'Efectividad = {auc*100:.1f}%')\n",
    "plt.plot([0, 1], [0, 1], 'k--')\n",
    "plt.xlabel('Tasa de Falsos Positivos')\n",
    "plt.ylabel('Tasa de Verdaderos Positivos')\n",
    "plt.title('Curva ROC')\n",
    "plt.legend(loc='best')\n",
    "plt.show()"
   ]
  },
  {
   "cell_type": "markdown",
   "metadata": {},
   "source": [
    "# FIN"
   ]
  }
 ],
 "metadata": {
  "kernelspec": {
   "display_name": "base",
   "language": "python",
   "name": "python3"
  },
  "language_info": {
   "codemirror_mode": {
    "name": "ipython",
    "version": 3
   },
   "file_extension": ".py",
   "mimetype": "text/x-python",
   "name": "python",
   "nbconvert_exporter": "python",
   "pygments_lexer": "ipython3",
   "version": "3.12.3"
  }
 },
 "nbformat": 4,
 "nbformat_minor": 2
}
